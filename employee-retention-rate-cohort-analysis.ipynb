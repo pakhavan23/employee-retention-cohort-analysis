{
 "cells": [
  {
   "cell_type": "markdown",
   "id": "8da866a9",
   "metadata": {
    "papermill": {
     "duration": 0.008034,
     "end_time": "2024-05-07T11:34:27.012050",
     "exception": false,
     "start_time": "2024-05-07T11:34:27.004016",
     "status": "completed"
    },
    "tags": []
   },
   "source": [
    "# Q1 - Employee Retention Rate - Cohort Analysis\n",
    "Given a dataset of employees, we're asked to do a yearly cohort analysis for employee retention. Cohort analysis is a type of behavioural analysis that groups the targeted users based on their shared traits to analyze a specific pattern. The shared trait here is the year employees started working at, and the pattern in question is about the amount of time they stayed in their job. \\\n",
    "In the next steps, we're going to analyze the dataset and visualize our results."
   ]
  },
  {
   "cell_type": "markdown",
   "id": "94ef928f",
   "metadata": {
    "papermill": {
     "duration": 0.00682,
     "end_time": "2024-05-07T11:34:27.026910",
     "exception": false,
     "start_time": "2024-05-07T11:34:27.020090",
     "status": "completed"
    },
    "tags": []
   },
   "source": [
    "# Step 1. Import the required packages & load the dataset\n",
    "As the first step, we're going to import some very popular python packages for data analysis, and load our dataset."
   ]
  },
  {
   "cell_type": "code",
   "execution_count": 1,
   "id": "5b8dbe6a",
   "metadata": {
    "_cell_guid": "b1076dfc-b9ad-4769-8c92-a6c4dae69d19",
    "_uuid": "8f2839f25d086af736a60e9eeb907d3b93b6e0e5",
    "execution": {
     "iopub.execute_input": "2024-05-07T11:34:27.043546Z",
     "iopub.status.busy": "2024-05-07T11:34:27.043097Z",
     "iopub.status.idle": "2024-05-07T11:34:31.456102Z",
     "shell.execute_reply": "2024-05-07T11:34:31.454593Z"
    },
    "papermill": {
     "duration": 4.425099,
     "end_time": "2024-05-07T11:34:31.459167",
     "exception": false,
     "start_time": "2024-05-07T11:34:27.034068",
     "status": "completed"
    },
    "tags": []
   },
   "outputs": [],
   "source": [
    "import datetime as dt\n",
    "import numpy as np\n",
    "import pandas as pd\n",
    "import matplotlib.pyplot as plt\n",
    "import seaborn as sns\n",
    "\n",
    "\n",
    "df = pd.read_excel('/kaggle/input/personal-data/Personal data.xlsx', sheet_name='Sheet1', header=0)"
   ]
  },
  {
   "cell_type": "markdown",
   "id": "033d1a3d",
   "metadata": {
    "papermill": {
     "duration": 0.006871,
     "end_time": "2024-05-07T11:34:31.473061",
     "exception": false,
     "start_time": "2024-05-07T11:34:31.466190",
     "status": "completed"
    },
    "tags": []
   },
   "source": [
    "# Step 2. Get to know the dataset\n",
    "\n",
    "Here, we're going to take a look at our dataset size, the columns & their types.\\\n",
    "Also, we're going to see if there are any null values. As mentioned in the instruction, the \"End_Date\" column does have some null values, meaning there are employees who are still working in their positions. "
   ]
  },
  {
   "cell_type": "code",
   "execution_count": 2,
   "id": "64e5c979",
   "metadata": {
    "execution": {
     "iopub.execute_input": "2024-05-07T11:34:31.489424Z",
     "iopub.status.busy": "2024-05-07T11:34:31.488837Z",
     "iopub.status.idle": "2024-05-07T11:34:31.530945Z",
     "shell.execute_reply": "2024-05-07T11:34:31.529744Z"
    },
    "papermill": {
     "duration": 0.053257,
     "end_time": "2024-05-07T11:34:31.533523",
     "exception": false,
     "start_time": "2024-05-07T11:34:31.480266",
     "status": "completed"
    },
    "tags": []
   },
   "outputs": [
    {
     "name": "stdout",
     "output_type": "stream",
     "text": [
      "Dataset Size: (426, 6)\n",
      "\n",
      "Dataset Information:\n",
      "<class 'pandas.core.frame.DataFrame'>\n",
      "RangeIndex: 426 entries, 0 to 425\n",
      "Data columns (total 6 columns):\n",
      " #   Column       Non-Null Count  Dtype         \n",
      "---  ------       --------------  -----         \n",
      " 0   Employee_id  426 non-null    int64         \n",
      " 1   Department   426 non-null    object        \n",
      " 2   Team         426 non-null    object        \n",
      " 3   Level        426 non-null    object        \n",
      " 4   Start_Date   424 non-null    datetime64[ns]\n",
      " 5   End_Date     96 non-null     datetime64[ns]\n",
      "dtypes: datetime64[ns](2), int64(1), object(3)\n",
      "memory usage: 20.1+ KB\n"
     ]
    }
   ],
   "source": [
    "print('Dataset Size:' , df.shape)\n",
    "print('\\nDataset Information:')\n",
    "df.info()"
   ]
  },
  {
   "cell_type": "markdown",
   "id": "5e9fb8ec",
   "metadata": {
    "papermill": {
     "duration": 0.006854,
     "end_time": "2024-05-07T11:34:31.547614",
     "exception": false,
     "start_time": "2024-05-07T11:34:31.540760",
     "status": "completed"
    },
    "tags": []
   },
   "source": [
    "As we can see, \"End_Date\" has some null values. But what we also see here is that we have 424 non-null value for \"Start_Date\", meaning there are two employees whose start dates we're not aware of.\\\n",
    "Also, \"Start_Date\" and \"End_Date\" have the \"datetime\" data type, which is exactly what we need. \\\n",
    "Next, we're going to handle these null values."
   ]
  },
  {
   "cell_type": "markdown",
   "id": "d1d116fc",
   "metadata": {
    "papermill": {
     "duration": 0.007057,
     "end_time": "2024-05-07T11:34:31.562397",
     "exception": false,
     "start_time": "2024-05-07T11:34:31.555340",
     "status": "completed"
    },
    "tags": []
   },
   "source": [
    "# Step 3. Data Pre-processing\n",
    "For this step, we're first going to handle the missing values in \"Start_Date\". Since there are only two employees with this condition, which is a very small fraction of our dataset (which contains 426 employees' information, so basically less than 1%), and we need our dataset to be specifically reliable and complete, we'll remove these rows. "
   ]
  },
  {
   "cell_type": "code",
   "execution_count": 3,
   "id": "a6549202",
   "metadata": {
    "execution": {
     "iopub.execute_input": "2024-05-07T11:34:31.579789Z",
     "iopub.status.busy": "2024-05-07T11:34:31.579329Z",
     "iopub.status.idle": "2024-05-07T11:34:31.602191Z",
     "shell.execute_reply": "2024-05-07T11:34:31.600489Z"
    },
    "papermill": {
     "duration": 0.034815,
     "end_time": "2024-05-07T11:34:31.604876",
     "exception": false,
     "start_time": "2024-05-07T11:34:31.570061",
     "status": "completed"
    },
    "tags": []
   },
   "outputs": [
    {
     "name": "stdout",
     "output_type": "stream",
     "text": [
      "<class 'pandas.core.frame.DataFrame'>\n",
      "Index: 424 entries, 0 to 425\n",
      "Data columns (total 6 columns):\n",
      " #   Column       Non-Null Count  Dtype         \n",
      "---  ------       --------------  -----         \n",
      " 0   Employee_id  424 non-null    int64         \n",
      " 1   Department   424 non-null    object        \n",
      " 2   Team         424 non-null    object        \n",
      " 3   Level        424 non-null    object        \n",
      " 4   Start_Date   424 non-null    datetime64[ns]\n",
      " 5   End_Date     96 non-null     datetime64[ns]\n",
      "dtypes: datetime64[ns](2), int64(1), object(3)\n",
      "memory usage: 23.2+ KB\n"
     ]
    }
   ],
   "source": [
    "df.dropna(subset=['Start_Date'], inplace=True)\n",
    "df.info()"
   ]
  },
  {
   "cell_type": "markdown",
   "id": "263ea382",
   "metadata": {
    "papermill": {
     "duration": 0.006986,
     "end_time": "2024-05-07T11:34:31.619281",
     "exception": false,
     "start_time": "2024-05-07T11:34:31.612295",
     "status": "completed"
    },
    "tags": []
   },
   "source": [
    "\n",
    "In addition, we're going to only replace the rows that do not have an \"End_date\" value with the current date, meaning these employees are still working in their positions. We're going to need this to consider employees who are still working in our cohorts."
   ]
  },
  {
   "cell_type": "code",
   "execution_count": 4,
   "id": "83387f95",
   "metadata": {
    "execution": {
     "iopub.execute_input": "2024-05-07T11:34:31.637814Z",
     "iopub.status.busy": "2024-05-07T11:34:31.637034Z",
     "iopub.status.idle": "2024-05-07T11:34:31.662598Z",
     "shell.execute_reply": "2024-05-07T11:34:31.661049Z"
    },
    "papermill": {
     "duration": 0.038682,
     "end_time": "2024-05-07T11:34:31.665541",
     "exception": false,
     "start_time": "2024-05-07T11:34:31.626859",
     "status": "completed"
    },
    "tags": []
   },
   "outputs": [
    {
     "data": {
      "text/html": [
       "<div>\n",
       "<style scoped>\n",
       "    .dataframe tbody tr th:only-of-type {\n",
       "        vertical-align: middle;\n",
       "    }\n",
       "\n",
       "    .dataframe tbody tr th {\n",
       "        vertical-align: top;\n",
       "    }\n",
       "\n",
       "    .dataframe thead th {\n",
       "        text-align: right;\n",
       "    }\n",
       "</style>\n",
       "<table border=\"1\" class=\"dataframe\">\n",
       "  <thead>\n",
       "    <tr style=\"text-align: right;\">\n",
       "      <th></th>\n",
       "      <th>Employee_id</th>\n",
       "      <th>Department</th>\n",
       "      <th>Team</th>\n",
       "      <th>Level</th>\n",
       "      <th>Start_Date</th>\n",
       "      <th>End_Date</th>\n",
       "    </tr>\n",
       "  </thead>\n",
       "  <tbody>\n",
       "    <tr>\n",
       "      <th>0</th>\n",
       "      <td>10001</td>\n",
       "      <td>HR</td>\n",
       "      <td>TeamA</td>\n",
       "      <td>Junior</td>\n",
       "      <td>2022-01-01</td>\n",
       "      <td>2024-05-07</td>\n",
       "    </tr>\n",
       "    <tr>\n",
       "      <th>1</th>\n",
       "      <td>10002</td>\n",
       "      <td>IT</td>\n",
       "      <td>TeamB</td>\n",
       "      <td>Senior</td>\n",
       "      <td>2022-01-05</td>\n",
       "      <td>2024-05-07</td>\n",
       "    </tr>\n",
       "    <tr>\n",
       "      <th>2</th>\n",
       "      <td>10003</td>\n",
       "      <td>Finance</td>\n",
       "      <td>TeamC</td>\n",
       "      <td>Analyst</td>\n",
       "      <td>2022-02-10</td>\n",
       "      <td>2024-05-07</td>\n",
       "    </tr>\n",
       "  </tbody>\n",
       "</table>\n",
       "</div>"
      ],
      "text/plain": [
       "   Employee_id Department    Team     Level Start_Date   End_Date\n",
       "0        10001         HR   TeamA    Junior 2022-01-01 2024-05-07\n",
       "1        10002         IT   TeamB    Senior 2022-01-05 2024-05-07\n",
       "2        10003    Finance   TeamC   Analyst 2022-02-10 2024-05-07"
      ]
     },
     "execution_count": 4,
     "metadata": {},
     "output_type": "execute_result"
    }
   ],
   "source": [
    "df['End_Date'] = pd.to_datetime(df['End_Date'].fillna(dt.datetime.today().date()))\n",
    "\n",
    "df.head(3)"
   ]
  },
  {
   "cell_type": "markdown",
   "id": "f1b2c3a2",
   "metadata": {
    "papermill": {
     "duration": 0.007206,
     "end_time": "2024-05-07T11:34:31.680369",
     "exception": false,
     "start_time": "2024-05-07T11:34:31.673163",
     "status": "completed"
    },
    "tags": []
   },
   "source": [
    "All done! We've got today's date instead of null."
   ]
  },
  {
   "cell_type": "markdown",
   "id": "55ec6d51",
   "metadata": {
    "papermill": {
     "duration": 0.007137,
     "end_time": "2024-05-07T11:34:31.695076",
     "exception": false,
     "start_time": "2024-05-07T11:34:31.687939",
     "status": "completed"
    },
    "tags": []
   },
   "source": [
    "# Step 4. Extract start year and end year for each employee\n",
    "Since we're going to base our analysis on yearly timeframes, we'll extract the start year and end year of work for each employee into new columns called \"Start_Year\" and \"End_Year\", to access them easier and more efficiently.     "
   ]
  },
  {
   "cell_type": "code",
   "execution_count": 5,
   "id": "5e28162a",
   "metadata": {
    "execution": {
     "iopub.execute_input": "2024-05-07T11:34:31.712824Z",
     "iopub.status.busy": "2024-05-07T11:34:31.712112Z",
     "iopub.status.idle": "2024-05-07T11:34:31.719963Z",
     "shell.execute_reply": "2024-05-07T11:34:31.718593Z"
    },
    "papermill": {
     "duration": 0.019856,
     "end_time": "2024-05-07T11:34:31.722838",
     "exception": false,
     "start_time": "2024-05-07T11:34:31.702982",
     "status": "completed"
    },
    "tags": []
   },
   "outputs": [],
   "source": [
    "df['Start_Year'] = df['Start_Date'].dt.year\n",
    "df['End_Year'] = df['End_Date'].dt.year "
   ]
  },
  {
   "cell_type": "markdown",
   "id": "e7290f00",
   "metadata": {
    "papermill": {
     "duration": 0.00738,
     "end_time": "2024-05-07T11:34:31.737748",
     "exception": false,
     "start_time": "2024-05-07T11:34:31.730368",
     "status": "completed"
    },
    "tags": []
   },
   "source": [
    "# Step 5. Calculate cohort sizes\n",
    "To do a cohort analysis, we need to divide people to cohorts (aka, groups) with similar traits to identify patterns in user behaviors & actions. So, we're going to determine our cohorts and calculate each of their sizes. In this case, our cohorts are divided by the years the employees started their jobs (Their shared trait is the year they've started working in)."
   ]
  },
  {
   "cell_type": "code",
   "execution_count": 6,
   "id": "d4101f04",
   "metadata": {
    "execution": {
     "iopub.execute_input": "2024-05-07T11:34:31.754731Z",
     "iopub.status.busy": "2024-05-07T11:34:31.754305Z",
     "iopub.status.idle": "2024-05-07T11:34:31.766042Z",
     "shell.execute_reply": "2024-05-07T11:34:31.764694Z"
    },
    "papermill": {
     "duration": 0.023383,
     "end_time": "2024-05-07T11:34:31.768624",
     "exception": false,
     "start_time": "2024-05-07T11:34:31.745241",
     "status": "completed"
    },
    "tags": []
   },
   "outputs": [
    {
     "name": "stdout",
     "output_type": "stream",
     "text": [
      "   Start_Year  cohort_size\n",
      "0        2019           31\n",
      "1        2020           60\n",
      "2        2021           72\n",
      "3        2022          119\n",
      "4        2023          130\n",
      "5        2024           12\n"
     ]
    }
   ],
   "source": [
    "cohort_size = df.groupby('Start_Year').Employee_id.nunique().reset_index().rename(columns={'Employee_id' : 'cohort_size'})\n",
    "print(cohort_size)"
   ]
  },
  {
   "cell_type": "markdown",
   "id": "df2fe93f",
   "metadata": {
    "papermill": {
     "duration": 0.007769,
     "end_time": "2024-05-07T11:34:31.784284",
     "exception": false,
     "start_time": "2024-05-07T11:34:31.776515",
     "status": "completed"
    },
    "tags": []
   },
   "source": [
    "As expected, we have 6 cohorts, each representing a year in our dataset."
   ]
  },
  {
   "cell_type": "markdown",
   "id": "f0eb5d73",
   "metadata": {
    "papermill": {
     "duration": 0.007619,
     "end_time": "2024-05-07T11:34:31.799727",
     "exception": false,
     "start_time": "2024-05-07T11:34:31.792108",
     "status": "completed"
    },
    "tags": []
   },
   "source": [
    "# Step 6. Create a pivot table representing retention based on start date\n",
    "In this step, we'll use a pivot table to see the retention rates of each cohort for different years."
   ]
  },
  {
   "cell_type": "code",
   "execution_count": 7,
   "id": "fce7294c",
   "metadata": {
    "execution": {
     "iopub.execute_input": "2024-05-07T11:34:31.817935Z",
     "iopub.status.busy": "2024-05-07T11:34:31.816857Z",
     "iopub.status.idle": "2024-05-07T11:34:31.861245Z",
     "shell.execute_reply": "2024-05-07T11:34:31.859412Z"
    },
    "papermill": {
     "duration": 0.05628,
     "end_time": "2024-05-07T11:34:31.863854",
     "exception": false,
     "start_time": "2024-05-07T11:34:31.807574",
     "status": "completed"
    },
    "tags": []
   },
   "outputs": [
    {
     "name": "stdout",
     "output_type": "stream",
     "text": [
      "End_Year    2019  2020  2021  2022  2023   2024\n",
      "Start_Year                                     \n",
      "2019         5.0   5.0   3.0   2.0   3.0   13.0\n",
      "2020         0.0   1.0   6.0   1.0   2.0   50.0\n",
      "2021         0.0   0.0   3.0  11.0   3.0   55.0\n",
      "2022         0.0   0.0   0.0   8.0  30.0   81.0\n",
      "2023         0.0   0.0   0.0   0.0  10.0  120.0\n",
      "2024         0.0   0.0   0.0   0.0   0.0   12.0\n"
     ]
    }
   ],
   "source": [
    "pivot_count = pd.pivot_table(df , values='Employee_id' , index='Start_Year' , columns='End_Year' , aggfunc='size').fillna(0)\n",
    "print(pivot_count)"
   ]
  },
  {
   "cell_type": "markdown",
   "id": "b0c87202",
   "metadata": {
    "papermill": {
     "duration": 0.007541,
     "end_time": "2024-05-07T11:34:31.879157",
     "exception": false,
     "start_time": "2024-05-07T11:34:31.871616",
     "status": "completed"
    },
    "tags": []
   },
   "source": [
    "# Step 7. Merge cohort sizes into the table & calculate the retention rates\n",
    "Next, let's merge this table with cohort sizes to calculate the % of retentions."
   ]
  },
  {
   "cell_type": "code",
   "execution_count": 8,
   "id": "3d023509",
   "metadata": {
    "execution": {
     "iopub.execute_input": "2024-05-07T11:34:31.896844Z",
     "iopub.status.busy": "2024-05-07T11:34:31.895832Z",
     "iopub.status.idle": "2024-05-07T11:34:31.918096Z",
     "shell.execute_reply": "2024-05-07T11:34:31.916887Z"
    },
    "papermill": {
     "duration": 0.033736,
     "end_time": "2024-05-07T11:34:31.920609",
     "exception": false,
     "start_time": "2024-05-07T11:34:31.886873",
     "status": "completed"
    },
    "tags": []
   },
   "outputs": [
    {
     "name": "stdout",
     "output_type": "stream",
     "text": [
      "            2019  2020  2021  2022  2023   2024  cohort_size\n",
      "Start_Year                                                  \n",
      "2019         5.0   5.0   3.0   2.0   3.0   13.0           31\n",
      "2020         0.0   1.0   6.0   1.0   2.0   50.0           60\n",
      "2021         0.0   0.0   3.0  11.0   3.0   55.0           72\n",
      "2022         0.0   0.0   0.0   8.0  30.0   81.0          119\n",
      "2023         0.0   0.0   0.0   0.0  10.0  120.0          130\n",
      "2024         0.0   0.0   0.0   0.0   0.0   12.0           12\n"
     ]
    }
   ],
   "source": [
    "pivot_count = pd.merge(pivot_count ,cohort_size , how='inner' , on='Start_Year').set_index('Start_Year')\n",
    "print(pivot_count)"
   ]
  },
  {
   "cell_type": "code",
   "execution_count": 9,
   "id": "2fc9fa7c",
   "metadata": {
    "execution": {
     "iopub.execute_input": "2024-05-07T11:34:31.938353Z",
     "iopub.status.busy": "2024-05-07T11:34:31.937632Z",
     "iopub.status.idle": "2024-05-07T11:34:31.950783Z",
     "shell.execute_reply": "2024-05-07T11:34:31.949168Z"
    },
    "papermill": {
     "duration": 0.025171,
     "end_time": "2024-05-07T11:34:31.953473",
     "exception": false,
     "start_time": "2024-05-07T11:34:31.928302",
     "status": "completed"
    },
    "tags": []
   },
   "outputs": [
    {
     "name": "stdout",
     "output_type": "stream",
     "text": [
      "            2019  2020  2021  2022  2023  2024\n",
      "Start_Year                                    \n",
      "2019        0.16  0.16  0.10  0.06  0.10  0.42\n",
      "2020        0.00  0.02  0.10  0.02  0.03  0.83\n",
      "2021        0.00  0.00  0.04  0.15  0.04  0.76\n",
      "2022        0.00  0.00  0.00  0.07  0.25  0.68\n",
      "2023        0.00  0.00  0.00  0.00  0.08  0.92\n",
      "2024        0.00  0.00  0.00  0.00  0.00  1.00\n"
     ]
    }
   ],
   "source": [
    "retention_rate = pd.DataFrame(pivot_count)\n",
    "\n",
    "retention_rate = retention_rate.iloc[:, :-1].div(pivot_count['cohort_size'], axis=0).round(2)\n",
    "\n",
    "print(retention_rate)"
   ]
  },
  {
   "cell_type": "markdown",
   "id": "2fbeea00",
   "metadata": {
    "papermill": {
     "duration": 0.007617,
     "end_time": "2024-05-07T11:34:31.969413",
     "exception": false,
     "start_time": "2024-05-07T11:34:31.961796",
     "status": "completed"
    },
    "tags": []
   },
   "source": [
    "# Step 8. Create a heatmap to better illustarte this analysis\n",
    "Lastly, we'll use a heatmap to better visualize retention rates based on cohorts."
   ]
  },
  {
   "cell_type": "code",
   "execution_count": 10,
   "id": "9dce2be5",
   "metadata": {
    "execution": {
     "iopub.execute_input": "2024-05-07T11:34:31.987252Z",
     "iopub.status.busy": "2024-05-07T11:34:31.986860Z",
     "iopub.status.idle": "2024-05-07T11:34:32.507497Z",
     "shell.execute_reply": "2024-05-07T11:34:32.506227Z"
    },
    "papermill": {
     "duration": 0.532875,
     "end_time": "2024-05-07T11:34:32.510226",
     "exception": false,
     "start_time": "2024-05-07T11:34:31.977351",
     "status": "completed"
    },
    "tags": []
   },
   "outputs": [
    {
     "data": {
      "image/png": "[encoded data removed]",
      "text/plain": [
       "<Figure size 800x600 with 2 Axes>"
      ]
     },
     "metadata": {},
     "output_type": "display_data"
    }
   ],
   "source": [
    "plt.figure(figsize=(8, 6))\n",
    "sns.color_palette(\"ch:s=-.2,r=.6\", as_cmap=True)\n",
    "sns.heatmap(retention_rate , annot=True , mask=retention_rate.isnull())\n",
    "plt.title('Retention Rates Heatmap')\n",
    "plt.xticks(rotation=90)  \n",
    "plt.gca().xaxis.tick_top()  \n",
    "plt.gca().xaxis.set_label_position('top')\n",
    "plt.show()"
   ]
  }
 ],
 "metadata": {
  "kaggle": {
   "accelerator": "none",
   "dataSources": [
    {
     "datasetId": 4794692,
     "sourceId": 8115609,
     "sourceType": "datasetVersion"
    }
   ],
   "dockerImageVersionId": 30684,
   "isGpuEnabled": false,
   "isInternetEnabled": false,
   "language": "python",
   "sourceType": "notebook"
  },
  "kernelspec": {
   "display_name": "Python 3",
   "language": "python",
   "name": "python3"
  },
  "language_info": {
   "codemirror_mode": {
    "name": "ipython",
    "version": 3
   },
   "file_extension": ".py",
   "mimetype": "text/x-python",
   "name": "python",
   "nbconvert_exporter": "python",
   "pygments_lexer": "ipython3",
   "version": "3.10.13"
  },
  "papermill": {
   "default_parameters": {},
   "duration": 10.432925,
   "end_time": "2024-05-07T11:34:33.242595",
   "environment_variables": {},
   "exception": null,
   "input_path": "__notebook__.ipynb",
   "output_path": "__notebook__.ipynb",
   "parameters": {},
   "start_time": "2024-05-07T11:34:22.809670",
   "version": "2.5.0"
  }
 },
 "nbformat": 4,
 "nbformat_minor": 5
}
